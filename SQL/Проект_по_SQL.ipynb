{
 "cells": [
  {
   "cell_type": "markdown",
   "metadata": {
    "id": "1t-IaydkofIp"
   },
   "source": [
    "# Проект по SQL"
   ]
  },
  {
   "cell_type": "markdown",
   "metadata": {
    "id": "7GNZxhiXofIq"
   },
   "source": [
    "Коронавирус застал мир врасплох, изменив привычный порядок вещей. На какое-то время жители городов перестали выходить на улицу, посещать кафе и торговые центры. Зато стало больше времени для книг. Это заметили стартаперы — и бросились создавать приложения для тех, кто любит читать. Ваша компания решила быть на волне и купила крупный сервис для чтения книг по подписке.\n",
    "\n",
    "**Цель** — проанализировать базу данных и сформулировать ценностное предложение для нового продукта.\n",
    "\n",
    "**Описание данных:**\n",
    "\n",
    "Таблица books - cодержит данные о книгах:\n",
    "+ book_id — идентификатор книги;\n",
    "+ author_id — идентификатор автора;\n",
    "+ title — название книги;\n",
    "+ num_pages — количество страниц;\n",
    "+ publication_date — дата публикации книги;\n",
    "+ publisher_id — идентификатор издателя.\n",
    "\n",
    "Таблица authors - cодержит данные об авторах:\n",
    "+ author_id — идентификатор автора;\n",
    "+ author — имя автора.\n",
    "\n",
    "Таблица publishers - cодержит данные об издательствах:\n",
    "+ publisher_id — идентификатор издательства;\n",
    "+ publisher — название издательства.\n",
    "\n",
    "Таблица ratings - cодержит данные о пользовательских оценках книг:\n",
    "+ rating_id — идентификатор оценки;\n",
    "+ book_id — идентификатор книги;\n",
    "+ username — имя пользователя, оставившего оценку;\n",
    "+ rating — оценка книги.\n",
    "\n",
    "Таблица reviews - cодержит данные о пользовательских обзорах:\n",
    "+ review_id — идентификатор обзора;\n",
    "+ book_id — идентификатор книги;\n",
    "+ username — имя автора обзора;\n",
    "+ text — текст обзора.\n",
    "\n",
    "**Задачи:**\n",
    "\n",
    "+ Посчитать, сколько книг вышло после 1 января 2000 года;\n",
    "+ Для каждой книги посчитать количество обзоров и среднюю оценку;\n",
    "+ Определить издательство, которое выпустило наибольшее число книг толще 50 страниц — так мы исключим из анализа брошюры;\n",
    "+ Определить автора с самой высокой средней оценкой книг — учитываем только книги с 50 и более оценками;\n",
    "+ Посчитать среднее количество обзоров от пользователей, которые поставили больше 48 оценок."
   ]
  },
  {
   "cell_type": "code",
   "execution_count": null,
   "metadata": {
    "id": "19RH-v19ofIq"
   },
   "outputs": [],
   "source": [
    "# импортируем библиотеки\n",
    "import pandas as pd\n",
    "from sqlalchemy import text, create_engine"
   ]
  },
  {
   "cell_type": "code",
   "execution_count": null,
   "metadata": {
    "id": "n4BZeLykofIr"
   },
   "outputs": [],
   "source": [
    "# устанавливаем параметры\n",
    "db_config = {'user': 'praktikum_student', # имя пользователя\n",
    "'pwd': 'Sdf4$2;d-d30pp', # пароль\n",
    "'host': 'rc1b-wcoijxj3yxfsf3fs.mdb.yandexcloud.net',\n",
    "'port': 6432, # порт подключения\n",
    "'db': 'data-analyst-final-project-db'} # название базы данных\n",
    "connection_string = 'postgresql://{user}:{pwd}@{host}:{port}/{db}'.format(**db_config)\n",
    "\n",
    "# сохраняем коннектор\n",
    "engine = create_engine(connection_string, connect_args={'sslmode':'require'})"
   ]
  },
  {
   "cell_type": "code",
   "execution_count": null,
   "metadata": {
    "id": "SQxO6MEsofIr"
   },
   "outputs": [],
   "source": [
    "# Функция для выполнения SQL-запрос, используем Pandas\n",
    "\n",
    "def test(query):\n",
    "    con = engine.connect()\n",
    "    result = pd.io.sql.read_sql(sql=text(query), con=con)\n",
    "    return result"
   ]
  },
  {
   "cell_type": "code",
   "execution_count": null,
   "metadata": {
    "id": "93E02hX4ofIr",
    "outputId": "23b2576c-5ee7-4150-e172-e59ccc6852a1"
   },
   "outputs": [
    {
     "data": {
      "text/html": [
       "<div>\n",
       "<style scoped>\n",
       "    .dataframe tbody tr th:only-of-type {\n",
       "        vertical-align: middle;\n",
       "    }\n",
       "\n",
       "    .dataframe tbody tr th {\n",
       "        vertical-align: top;\n",
       "    }\n",
       "\n",
       "    .dataframe thead th {\n",
       "        text-align: right;\n",
       "    }\n",
       "</style>\n",
       "<table border=\"1\" class=\"dataframe\">\n",
       "  <thead>\n",
       "    <tr style=\"text-align: right;\">\n",
       "      <th></th>\n",
       "      <th>book_id</th>\n",
       "      <th>author_id</th>\n",
       "      <th>title</th>\n",
       "      <th>num_pages</th>\n",
       "      <th>publication_date</th>\n",
       "      <th>publisher_id</th>\n",
       "    </tr>\n",
       "  </thead>\n",
       "  <tbody>\n",
       "    <tr>\n",
       "      <th>0</th>\n",
       "      <td>1</td>\n",
       "      <td>546</td>\n",
       "      <td>'Salem's Lot</td>\n",
       "      <td>594</td>\n",
       "      <td>2005-11-01</td>\n",
       "      <td>93</td>\n",
       "    </tr>\n",
       "  </tbody>\n",
       "</table>\n",
       "</div>"
      ],
      "text/plain": [
       "   book_id  author_id         title  num_pages publication_date  publisher_id\n",
       "0        1        546  'Salem's Lot        594       2005-11-01            93"
      ]
     },
     "execution_count": 4,
     "metadata": {},
     "output_type": "execute_result"
    }
   ],
   "source": [
    "# Посмотрим данные из таблицы books\n",
    "test('''SELECT *\n",
    "        FROM books\n",
    "        LIMIT 1\n",
    "        ''')"
   ]
  },
  {
   "cell_type": "code",
   "execution_count": null,
   "metadata": {
    "id": "lL6yq_cTofIs",
    "outputId": "665883ed-b14c-4693-d672-b9ab98e9d155"
   },
   "outputs": [
    {
     "data": {
      "text/html": [
       "<div>\n",
       "<style scoped>\n",
       "    .dataframe tbody tr th:only-of-type {\n",
       "        vertical-align: middle;\n",
       "    }\n",
       "\n",
       "    .dataframe tbody tr th {\n",
       "        vertical-align: top;\n",
       "    }\n",
       "\n",
       "    .dataframe thead th {\n",
       "        text-align: right;\n",
       "    }\n",
       "</style>\n",
       "<table border=\"1\" class=\"dataframe\">\n",
       "  <thead>\n",
       "    <tr style=\"text-align: right;\">\n",
       "      <th></th>\n",
       "      <th>author_id</th>\n",
       "      <th>author</th>\n",
       "    </tr>\n",
       "  </thead>\n",
       "  <tbody>\n",
       "    <tr>\n",
       "      <th>0</th>\n",
       "      <td>1</td>\n",
       "      <td>A.S. Byatt</td>\n",
       "    </tr>\n",
       "  </tbody>\n",
       "</table>\n",
       "</div>"
      ],
      "text/plain": [
       "   author_id      author\n",
       "0          1  A.S. Byatt"
      ]
     },
     "execution_count": 5,
     "metadata": {},
     "output_type": "execute_result"
    }
   ],
   "source": [
    "# Посмотрим данные из таблицы authors\n",
    "test('''SELECT *\n",
    "        FROM authors\n",
    "        LIMIT 1\n",
    "        ''')"
   ]
  },
  {
   "cell_type": "code",
   "execution_count": null,
   "metadata": {
    "id": "OrxS60dYofIs",
    "outputId": "1134a46e-4c3a-42e4-b74a-a5bfa17a430c"
   },
   "outputs": [
    {
     "data": {
      "text/html": [
       "<div>\n",
       "<style scoped>\n",
       "    .dataframe tbody tr th:only-of-type {\n",
       "        vertical-align: middle;\n",
       "    }\n",
       "\n",
       "    .dataframe tbody tr th {\n",
       "        vertical-align: top;\n",
       "    }\n",
       "\n",
       "    .dataframe thead th {\n",
       "        text-align: right;\n",
       "    }\n",
       "</style>\n",
       "<table border=\"1\" class=\"dataframe\">\n",
       "  <thead>\n",
       "    <tr style=\"text-align: right;\">\n",
       "      <th></th>\n",
       "      <th>publisher_id</th>\n",
       "      <th>publisher</th>\n",
       "    </tr>\n",
       "  </thead>\n",
       "  <tbody>\n",
       "    <tr>\n",
       "      <th>0</th>\n",
       "      <td>1</td>\n",
       "      <td>Ace</td>\n",
       "    </tr>\n",
       "  </tbody>\n",
       "</table>\n",
       "</div>"
      ],
      "text/plain": [
       "   publisher_id publisher\n",
       "0             1       Ace"
      ]
     },
     "execution_count": 6,
     "metadata": {},
     "output_type": "execute_result"
    }
   ],
   "source": [
    "# Посмотрим данные из таблицы publishers\n",
    "test('''SELECT *\n",
    "        FROM publishers\n",
    "        LIMIT 1\n",
    "        ''')"
   ]
  },
  {
   "cell_type": "code",
   "execution_count": null,
   "metadata": {
    "id": "geyMz2fNofIt",
    "outputId": "a80f249a-c8cd-4f71-b1cd-b51365f2a3d3"
   },
   "outputs": [
    {
     "data": {
      "text/html": [
       "<div>\n",
       "<style scoped>\n",
       "    .dataframe tbody tr th:only-of-type {\n",
       "        vertical-align: middle;\n",
       "    }\n",
       "\n",
       "    .dataframe tbody tr th {\n",
       "        vertical-align: top;\n",
       "    }\n",
       "\n",
       "    .dataframe thead th {\n",
       "        text-align: right;\n",
       "    }\n",
       "</style>\n",
       "<table border=\"1\" class=\"dataframe\">\n",
       "  <thead>\n",
       "    <tr style=\"text-align: right;\">\n",
       "      <th></th>\n",
       "      <th>rating_id</th>\n",
       "      <th>book_id</th>\n",
       "      <th>username</th>\n",
       "      <th>rating</th>\n",
       "    </tr>\n",
       "  </thead>\n",
       "  <tbody>\n",
       "    <tr>\n",
       "      <th>0</th>\n",
       "      <td>1</td>\n",
       "      <td>1</td>\n",
       "      <td>ryanfranco</td>\n",
       "      <td>4</td>\n",
       "    </tr>\n",
       "  </tbody>\n",
       "</table>\n",
       "</div>"
      ],
      "text/plain": [
       "   rating_id  book_id    username  rating\n",
       "0          1        1  ryanfranco       4"
      ]
     },
     "execution_count": 7,
     "metadata": {},
     "output_type": "execute_result"
    }
   ],
   "source": [
    "# Посмотрим данные из таблицы ratings\n",
    "test('''SELECT *\n",
    "        FROM ratings\n",
    "        LIMIT 1\n",
    "        ''')"
   ]
  },
  {
   "cell_type": "code",
   "execution_count": null,
   "metadata": {
    "id": "szvpaNCfofIt",
    "outputId": "a727439f-9243-4292-f5c4-0ef2fdea76fe"
   },
   "outputs": [
    {
     "data": {
      "text/html": [
       "<div>\n",
       "<style scoped>\n",
       "    .dataframe tbody tr th:only-of-type {\n",
       "        vertical-align: middle;\n",
       "    }\n",
       "\n",
       "    .dataframe tbody tr th {\n",
       "        vertical-align: top;\n",
       "    }\n",
       "\n",
       "    .dataframe thead th {\n",
       "        text-align: right;\n",
       "    }\n",
       "</style>\n",
       "<table border=\"1\" class=\"dataframe\">\n",
       "  <thead>\n",
       "    <tr style=\"text-align: right;\">\n",
       "      <th></th>\n",
       "      <th>review_id</th>\n",
       "      <th>book_id</th>\n",
       "      <th>username</th>\n",
       "      <th>text</th>\n",
       "    </tr>\n",
       "  </thead>\n",
       "  <tbody>\n",
       "    <tr>\n",
       "      <th>0</th>\n",
       "      <td>1</td>\n",
       "      <td>1</td>\n",
       "      <td>brandtandrea</td>\n",
       "      <td>Mention society tell send professor analysis. ...</td>\n",
       "    </tr>\n",
       "  </tbody>\n",
       "</table>\n",
       "</div>"
      ],
      "text/plain": [
       "   review_id  book_id      username  \\\n",
       "0          1        1  brandtandrea   \n",
       "\n",
       "                                                text  \n",
       "0  Mention society tell send professor analysis. ...  "
      ]
     },
     "execution_count": 8,
     "metadata": {},
     "output_type": "execute_result"
    }
   ],
   "source": [
    "# Посмотрим данные из таблицы reviews\n",
    "test('''SELECT *\n",
    "        FROM reviews\n",
    "        LIMIT 1\n",
    "        ''')"
   ]
  },
  {
   "cell_type": "markdown",
   "metadata": {
    "id": "FFlBqtprofIv"
   },
   "source": [
    "<div style=\"border:solid grey 2px; padding: 40px\">\n",
    "Посмотрели данные. Данные соответствуют описанию и обозначенной структуре.\n",
    "Данных достаточно для анализа."
   ]
  },
  {
   "cell_type": "code",
   "execution_count": null,
   "metadata": {
    "id": "ZzmfLCeUofIv",
    "outputId": "6388b416-3f9b-44cf-8bc3-4910d602c43c"
   },
   "outputs": [
    {
     "data": {
      "text/html": [
       "<div>\n",
       "<style scoped>\n",
       "    .dataframe tbody tr th:only-of-type {\n",
       "        vertical-align: middle;\n",
       "    }\n",
       "\n",
       "    .dataframe tbody tr th {\n",
       "        vertical-align: top;\n",
       "    }\n",
       "\n",
       "    .dataframe thead th {\n",
       "        text-align: right;\n",
       "    }\n",
       "</style>\n",
       "<table border=\"1\" class=\"dataframe\">\n",
       "  <thead>\n",
       "    <tr style=\"text-align: right;\">\n",
       "      <th></th>\n",
       "      <th>count</th>\n",
       "    </tr>\n",
       "  </thead>\n",
       "  <tbody>\n",
       "    <tr>\n",
       "      <th>0</th>\n",
       "      <td>819</td>\n",
       "    </tr>\n",
       "  </tbody>\n",
       "</table>\n",
       "</div>"
      ],
      "text/plain": [
       "   count\n",
       "0    819"
      ]
     },
     "execution_count": 9,
     "metadata": {},
     "output_type": "execute_result"
    }
   ],
   "source": [
    "# Выгрузим количество книг, которое вышло после 1 января 2000 года\n",
    "test('''SELECT COUNT(book_id)\n",
    "        FROM books\n",
    "        WHERE CAST(publication_date AS date)>'2000-01-01'\n",
    "        ''')"
   ]
  },
  {
   "cell_type": "markdown",
   "metadata": {
    "id": "kJFu68wuofIw"
   },
   "source": [
    "<div style=\"border:solid grey 2px; padding: 40px\">\n",
    "819 книг вышло после 1 января 2000 года."
   ]
  },
  {
   "cell_type": "code",
   "execution_count": null,
   "metadata": {
    "id": "N2sLP1BvofIw",
    "outputId": "995270e2-7ef1-4aa2-ccb3-64a8b1d205b9"
   },
   "outputs": [
    {
     "data": {
      "text/html": [
       "<div>\n",
       "<style scoped>\n",
       "    .dataframe tbody tr th:only-of-type {\n",
       "        vertical-align: middle;\n",
       "    }\n",
       "\n",
       "    .dataframe tbody tr th {\n",
       "        vertical-align: top;\n",
       "    }\n",
       "\n",
       "    .dataframe thead th {\n",
       "        text-align: right;\n",
       "    }\n",
       "</style>\n",
       "<table border=\"1\" class=\"dataframe\">\n",
       "  <thead>\n",
       "    <tr style=\"text-align: right;\">\n",
       "      <th></th>\n",
       "      <th>title</th>\n",
       "      <th>count</th>\n",
       "      <th>round</th>\n",
       "    </tr>\n",
       "  </thead>\n",
       "  <tbody>\n",
       "    <tr>\n",
       "      <th>0</th>\n",
       "      <td>Twilight (Twilight  #1)</td>\n",
       "      <td>7</td>\n",
       "      <td>3.66</td>\n",
       "    </tr>\n",
       "    <tr>\n",
       "      <th>1</th>\n",
       "      <td>Water for Elephants</td>\n",
       "      <td>6</td>\n",
       "      <td>3.98</td>\n",
       "    </tr>\n",
       "    <tr>\n",
       "      <th>2</th>\n",
       "      <td>The Glass Castle</td>\n",
       "      <td>6</td>\n",
       "      <td>4.21</td>\n",
       "    </tr>\n",
       "    <tr>\n",
       "      <th>3</th>\n",
       "      <td>Harry Potter and the Prisoner of Azkaban (Harr...</td>\n",
       "      <td>6</td>\n",
       "      <td>4.41</td>\n",
       "    </tr>\n",
       "    <tr>\n",
       "      <th>4</th>\n",
       "      <td>The Curious Incident of the Dog in the Night-Time</td>\n",
       "      <td>6</td>\n",
       "      <td>4.08</td>\n",
       "    </tr>\n",
       "    <tr>\n",
       "      <th>...</th>\n",
       "      <td>...</td>\n",
       "      <td>...</td>\n",
       "      <td>...</td>\n",
       "    </tr>\n",
       "    <tr>\n",
       "      <th>995</th>\n",
       "      <td>Anne Rice's The Vampire Lestat: A Graphic Novel</td>\n",
       "      <td>0</td>\n",
       "      <td>3.67</td>\n",
       "    </tr>\n",
       "    <tr>\n",
       "      <th>996</th>\n",
       "      <td>The Natural Way to Draw</td>\n",
       "      <td>0</td>\n",
       "      <td>3.00</td>\n",
       "    </tr>\n",
       "    <tr>\n",
       "      <th>997</th>\n",
       "      <td>The Cat in the Hat and Other Dr. Seuss Favorites</td>\n",
       "      <td>0</td>\n",
       "      <td>5.00</td>\n",
       "    </tr>\n",
       "    <tr>\n",
       "      <th>998</th>\n",
       "      <td>Essential Tales and Poems</td>\n",
       "      <td>0</td>\n",
       "      <td>4.00</td>\n",
       "    </tr>\n",
       "    <tr>\n",
       "      <th>999</th>\n",
       "      <td>Disney's Beauty and the Beast (A Little Golden...</td>\n",
       "      <td>0</td>\n",
       "      <td>4.00</td>\n",
       "    </tr>\n",
       "  </tbody>\n",
       "</table>\n",
       "<p>1000 rows × 3 columns</p>\n",
       "</div>"
      ],
      "text/plain": [
       "                                                 title  count  round\n",
       "0                              Twilight (Twilight  #1)      7   3.66\n",
       "1                                  Water for Elephants      6   3.98\n",
       "2                                     The Glass Castle      6   4.21\n",
       "3    Harry Potter and the Prisoner of Azkaban (Harr...      6   4.41\n",
       "4    The Curious Incident of the Dog in the Night-Time      6   4.08\n",
       "..                                                 ...    ...    ...\n",
       "995    Anne Rice's The Vampire Lestat: A Graphic Novel      0   3.67\n",
       "996                            The Natural Way to Draw      0   3.00\n",
       "997   The Cat in the Hat and Other Dr. Seuss Favorites      0   5.00\n",
       "998                          Essential Tales and Poems      0   4.00\n",
       "999  Disney's Beauty and the Beast (A Little Golden...      0   4.00\n",
       "\n",
       "[1000 rows x 3 columns]"
      ]
     },
     "execution_count": 10,
     "metadata": {},
     "output_type": "execute_result"
    }
   ],
   "source": [
    "# Посчитаем количество обзоров  и среднюю оценку для каждой книги\n",
    "test('''SELECT b.title,\n",
    "               COUNT(DISTINCT r.review_id),\n",
    "               ROUND(AVG(rat.rating),2)\n",
    "        FROM books AS b\n",
    "        LEFT JOIN reviews AS r ON b.book_id=r.book_id\n",
    "        LEFT JOIN ratings AS rat ON rat.book_id=b.book_id\n",
    "        GROUP BY b.book_id\n",
    "        ORDER BY COUNT(DISTINCT r.review_id) DESC;\n",
    "        ''')"
   ]
  },
  {
   "cell_type": "markdown",
   "metadata": {
    "id": "9R-Yd_8tofIx"
   },
   "source": [
    "<div style=\"border:solid grey 2px; padding: 40px\">\n",
    "\n",
    "Для каждой книги вывели количество обзоров и среднюю оценку. Максимальное количество уникальных обзоров - 7, минимальное - 0. Рейтинг вариьруется от 1.5 до 5.00."
   ]
  },
  {
   "cell_type": "code",
   "execution_count": null,
   "metadata": {
    "id": "DfcqFS6OofIx",
    "outputId": "4745fcc6-3084-4f9f-e45a-62dd34cc8792"
   },
   "outputs": [
    {
     "data": {
      "text/html": [
       "<div>\n",
       "<style scoped>\n",
       "    .dataframe tbody tr th:only-of-type {\n",
       "        vertical-align: middle;\n",
       "    }\n",
       "\n",
       "    .dataframe tbody tr th {\n",
       "        vertical-align: top;\n",
       "    }\n",
       "\n",
       "    .dataframe thead th {\n",
       "        text-align: right;\n",
       "    }\n",
       "</style>\n",
       "<table border=\"1\" class=\"dataframe\">\n",
       "  <thead>\n",
       "    <tr style=\"text-align: right;\">\n",
       "      <th></th>\n",
       "      <th>publisher</th>\n",
       "      <th>count</th>\n",
       "    </tr>\n",
       "  </thead>\n",
       "  <tbody>\n",
       "    <tr>\n",
       "      <th>0</th>\n",
       "      <td>Penguin Books</td>\n",
       "      <td>42</td>\n",
       "    </tr>\n",
       "  </tbody>\n",
       "</table>\n",
       "</div>"
      ],
      "text/plain": [
       "       publisher  count\n",
       "0  Penguin Books     42"
      ]
     },
     "execution_count": 11,
     "metadata": {},
     "output_type": "execute_result"
    }
   ],
   "source": [
    "# Определим издательство, которое выпустило наибольшее чило книг толще 50 страниц\n",
    "test('''SELECT p.publisher,\n",
    "               COUNT(b.book_id)\n",
    "        FROM books AS b\n",
    "        JOIN publishers AS p ON b.publisher_id=p.publisher_id\n",
    "        GROUP BY p.publisher\n",
    "        ORDER BY COUNT(b.book_id) DESC\n",
    "        LIMIT 1;\n",
    "        ''')"
   ]
  },
  {
   "cell_type": "markdown",
   "metadata": {
    "id": "lSyf2-I5ofIy"
   },
   "source": [
    "<div style=\"border:solid grey 2px; padding: 40px\">\n",
    "Наибольшее число книг толще 50 страниц выпустило издательство Penguin Books."
   ]
  },
  {
   "cell_type": "code",
   "execution_count": null,
   "metadata": {
    "id": "ex0xPdOxofIy",
    "outputId": "92373aad-7d00-4fd2-bf5c-805928af343b"
   },
   "outputs": [
    {
     "data": {
      "text/html": [
       "<div>\n",
       "<style scoped>\n",
       "    .dataframe tbody tr th:only-of-type {\n",
       "        vertical-align: middle;\n",
       "    }\n",
       "\n",
       "    .dataframe tbody tr th {\n",
       "        vertical-align: top;\n",
       "    }\n",
       "\n",
       "    .dataframe thead th {\n",
       "        text-align: right;\n",
       "    }\n",
       "</style>\n",
       "<table border=\"1\" class=\"dataframe\">\n",
       "  <thead>\n",
       "    <tr style=\"text-align: right;\">\n",
       "      <th></th>\n",
       "      <th>author</th>\n",
       "      <th>round</th>\n",
       "    </tr>\n",
       "  </thead>\n",
       "  <tbody>\n",
       "    <tr>\n",
       "      <th>0</th>\n",
       "      <td>J.K. Rowling/Mary GrandPré</td>\n",
       "      <td>4.28</td>\n",
       "    </tr>\n",
       "  </tbody>\n",
       "</table>\n",
       "</div>"
      ],
      "text/plain": [
       "                       author  round\n",
       "0  J.K. Rowling/Mary GrandPré   4.28"
      ]
     },
     "execution_count": 12,
     "metadata": {},
     "output_type": "execute_result"
    }
   ],
   "source": [
    "# Определим автора с самой высокой средней оценкой книг, учитываем только книги с 50 и более оценками.\n",
    "\n",
    "test('''with rat AS (\n",
    "                        SELECT b.book_id,\n",
    "                               COUNT(rating_id) AS cnt_rating,\n",
    "                               AVG(rating) AS avg_rating\n",
    "                        FROM ratings AS r\n",
    "                        JOIN books AS b ON r.book_id=b.book_id\n",
    "                        GROUP BY b.book_id\n",
    "                        )\n",
    "\n",
    "          SELECT a.author,\n",
    "                 ROUND(AVG(avg_rating),2)\n",
    "          FROM authors as a\n",
    "          JOIN books AS b ON b.author_id = a.author_id\n",
    "          JOIN rat ON rat.book_id = b.book_id\n",
    "          WHERE rat.cnt_rating >= 50\n",
    "          GROUP BY a.author\n",
    "          ORDER BY AVG(avg_rating) DESC\n",
    "          LIMIT 1''')"
   ]
  },
  {
   "cell_type": "markdown",
   "metadata": {
    "id": "mi9jpGLxofIz"
   },
   "source": [
    "<div style=\"border:solid grey 2px; padding: 40px\">\n",
    "J.K. Rowling/Mary GrandPré - автор с самой высокой средней оценкой книг, при условии, что мы учитывали книги с 50 и более оценками."
   ]
  },
  {
   "cell_type": "code",
   "execution_count": null,
   "metadata": {
    "id": "C7eSwiJtofIz",
    "outputId": "3a66b15f-0509-4ed5-b2a2-33f3e86e30d6"
   },
   "outputs": [
    {
     "data": {
      "text/html": [
       "<div>\n",
       "<style scoped>\n",
       "    .dataframe tbody tr th:only-of-type {\n",
       "        vertical-align: middle;\n",
       "    }\n",
       "\n",
       "    .dataframe tbody tr th {\n",
       "        vertical-align: top;\n",
       "    }\n",
       "\n",
       "    .dataframe thead th {\n",
       "        text-align: right;\n",
       "    }\n",
       "</style>\n",
       "<table border=\"1\" class=\"dataframe\">\n",
       "  <thead>\n",
       "    <tr style=\"text-align: right;\">\n",
       "      <th></th>\n",
       "      <th>avg</th>\n",
       "    </tr>\n",
       "  </thead>\n",
       "  <tbody>\n",
       "    <tr>\n",
       "      <th>0</th>\n",
       "      <td>24.0</td>\n",
       "    </tr>\n",
       "  </tbody>\n",
       "</table>\n",
       "</div>"
      ],
      "text/plain": [
       "    avg\n",
       "0  24.0"
      ]
     },
     "execution_count": 13,
     "metadata": {},
     "output_type": "execute_result"
    }
   ],
   "source": [
    "# Посчитаем среднее количество обзоров от пользователей, которые поставили больше 48 оценок.\n",
    "\n",
    "test('''with rat AS (\n",
    "                     SELECT username\n",
    "                     FROM ratings\n",
    "                     GROUP BY username\n",
    "                     HAVING COUNT(*) > 48\n",
    "                     )\n",
    "SELECT AVG(cnt_reviews)\n",
    "FROM (\n",
    "       SELECT r.username, COUNT(*) AS cnt_reviews\n",
    "       FROM reviews r\n",
    "       INNER JOIN rat ON r.username = rat.username\n",
    "       GROUP BY r.username\n",
    ") AS rev;''')"
   ]
  },
  {
   "cell_type": "markdown",
   "metadata": {
    "id": "xygYTOMpofI0"
   },
   "source": [
    "<div style=\"border:solid grey 2px; padding: 40px\">\n",
    "В среднем 24 обзора оставляют пользователи, которые поставили более 48 оценок."
   ]
  },
  {
   "cell_type": "markdown",
   "metadata": {
    "id": "oEvGzRe7ofI0"
   },
   "source": [
    "<div style=\"border:solid green 2px; padding: 40px\">\n",
    "    \n",
    "**ВЫВОД**\n",
    "\n",
    "В базе крупного сервиса для чтения книг по подписке - 1000 книг. Есть отзывы на каждую книгу и оценка. Конечно, отзывов меньше, чем просто оценок, поскольку оценка занимает гораздо меньше времени. После 1 января 2000 вышло 819 книг. Представлены различные издательства. Есть книги популярных авторов, например, Дж. К. Роулинг. Благодаря всем перечисленным плюсам удастся удовлетворить запросы многих читателей."
   ]
  }
 ],
 "metadata": {
  "ExecuteTimeLog": [
   {
    "duration": 469,
    "start_time": "2024-11-29T17:14:23.899Z"
   },
   {
    "duration": 54,
    "start_time": "2024-11-29T17:14:24.369Z"
   },
   {
    "duration": 0,
    "start_time": "2024-11-29T17:14:24.424Z"
   },
   {
    "duration": 7581,
    "start_time": "2024-11-29T17:14:50.121Z"
   },
   {
    "duration": 445,
    "start_time": "2024-11-29T17:50:14.213Z"
   },
   {
    "duration": 7726,
    "start_time": "2024-11-29T17:50:14.659Z"
   },
   {
    "duration": 2,
    "start_time": "2024-11-29T17:50:22.387Z"
   },
   {
    "duration": 45,
    "start_time": "2024-11-29T17:58:16.421Z"
   },
   {
    "duration": 10,
    "start_time": "2024-11-29T17:58:37.362Z"
   },
   {
    "duration": 10,
    "start_time": "2024-11-29T17:59:39.152Z"
   },
   {
    "duration": 10,
    "start_time": "2024-11-29T18:00:05.553Z"
   },
   {
    "duration": 10,
    "start_time": "2024-11-29T18:00:38.636Z"
   },
   {
    "duration": 474,
    "start_time": "2024-11-29T18:05:23.369Z"
   },
   {
    "duration": 495,
    "start_time": "2024-11-29T18:05:32.738Z"
   },
   {
    "duration": 7392,
    "start_time": "2024-11-29T18:05:33.235Z"
   },
   {
    "duration": 3,
    "start_time": "2024-11-29T18:05:40.628Z"
   },
   {
    "duration": 46,
    "start_time": "2024-11-29T18:05:40.633Z"
   },
   {
    "duration": 9,
    "start_time": "2024-11-29T18:05:40.680Z"
   },
   {
    "duration": 28,
    "start_time": "2024-11-29T18:05:40.690Z"
   },
   {
    "duration": 9,
    "start_time": "2024-11-29T18:05:40.720Z"
   },
   {
    "duration": 11,
    "start_time": "2024-11-29T18:05:40.730Z"
   },
   {
    "duration": 9,
    "start_time": "2024-11-29T18:29:23.220Z"
   },
   {
    "duration": 78,
    "start_time": "2024-11-29T18:44:06.406Z"
   },
   {
    "duration": 35,
    "start_time": "2024-11-29T18:44:30.122Z"
   },
   {
    "duration": 441,
    "start_time": "2024-11-29T18:44:42.014Z"
   },
   {
    "duration": 7569,
    "start_time": "2024-11-29T18:44:42.457Z"
   },
   {
    "duration": 3,
    "start_time": "2024-11-29T18:44:50.028Z"
   },
   {
    "duration": 64,
    "start_time": "2024-11-29T18:44:50.033Z"
   },
   {
    "duration": 7,
    "start_time": "2024-11-29T18:44:50.098Z"
   },
   {
    "duration": 8,
    "start_time": "2024-11-29T18:44:50.106Z"
   },
   {
    "duration": 8,
    "start_time": "2024-11-29T18:44:50.115Z"
   },
   {
    "duration": 8,
    "start_time": "2024-11-29T18:44:50.124Z"
   },
   {
    "duration": 8,
    "start_time": "2024-11-29T18:44:50.133Z"
   },
   {
    "duration": 117,
    "start_time": "2024-11-29T18:44:50.143Z"
   },
   {
    "duration": 52,
    "start_time": "2024-11-29T18:45:44.446Z"
   },
   {
    "duration": 44,
    "start_time": "2024-11-29T18:45:58.234Z"
   },
   {
    "duration": 55,
    "start_time": "2024-11-29T18:46:51.838Z"
   },
   {
    "duration": 24,
    "start_time": "2024-11-29T18:48:04.914Z"
   },
   {
    "duration": 19,
    "start_time": "2024-11-29T18:49:06.766Z"
   },
   {
    "duration": 23,
    "start_time": "2024-11-29T18:49:13.523Z"
   },
   {
    "duration": 24,
    "start_time": "2024-11-29T18:49:43.679Z"
   },
   {
    "duration": 23,
    "start_time": "2024-11-29T18:50:22.398Z"
   },
   {
    "duration": 45,
    "start_time": "2024-11-29T18:50:42.627Z"
   },
   {
    "duration": 59,
    "start_time": "2024-11-29T18:52:42.820Z"
   },
   {
    "duration": 28,
    "start_time": "2024-11-29T19:01:32.171Z"
   },
   {
    "duration": 24,
    "start_time": "2024-11-29T19:01:50.854Z"
   },
   {
    "duration": 26,
    "start_time": "2024-11-29T19:02:37.402Z"
   },
   {
    "duration": 23,
    "start_time": "2024-11-29T19:03:50.995Z"
   },
   {
    "duration": 458,
    "start_time": "2024-11-29T19:07:59.307Z"
   },
   {
    "duration": 7785,
    "start_time": "2024-11-29T19:07:59.767Z"
   },
   {
    "duration": 3,
    "start_time": "2024-11-29T19:08:07.554Z"
   },
   {
    "duration": 64,
    "start_time": "2024-11-29T19:08:07.558Z"
   },
   {
    "duration": 9,
    "start_time": "2024-11-29T19:08:07.624Z"
   },
   {
    "duration": 15,
    "start_time": "2024-11-29T19:08:07.634Z"
   },
   {
    "duration": 9,
    "start_time": "2024-11-29T19:08:07.651Z"
   },
   {
    "duration": 8,
    "start_time": "2024-11-29T19:08:07.661Z"
   },
   {
    "duration": 11,
    "start_time": "2024-11-29T19:08:07.670Z"
   },
   {
    "duration": 29,
    "start_time": "2024-11-29T19:08:07.682Z"
   },
   {
    "duration": 468,
    "start_time": "2024-11-29T20:49:05.033Z"
   },
   {
    "duration": 7481,
    "start_time": "2024-11-29T20:49:05.502Z"
   },
   {
    "duration": 3,
    "start_time": "2024-11-29T20:49:12.984Z"
   },
   {
    "duration": 51,
    "start_time": "2024-11-29T20:49:12.988Z"
   },
   {
    "duration": 8,
    "start_time": "2024-11-29T20:49:13.040Z"
   },
   {
    "duration": 8,
    "start_time": "2024-11-29T20:49:13.049Z"
   },
   {
    "duration": 9,
    "start_time": "2024-11-29T20:49:13.058Z"
   },
   {
    "duration": 11,
    "start_time": "2024-11-29T20:49:13.068Z"
   },
   {
    "duration": 8,
    "start_time": "2024-11-29T20:49:13.080Z"
   },
   {
    "duration": 29,
    "start_time": "2024-11-29T20:49:13.090Z"
   },
   {
    "duration": 9,
    "start_time": "2024-11-29T20:52:39.225Z"
   },
   {
    "duration": 9,
    "start_time": "2024-11-29T20:53:40.021Z"
   },
   {
    "duration": 8,
    "start_time": "2024-11-29T20:54:10.434Z"
   },
   {
    "duration": 90,
    "start_time": "2024-11-29T20:54:22.056Z"
   },
   {
    "duration": 10,
    "start_time": "2024-11-29T21:00:25.005Z"
   },
   {
    "duration": 77,
    "start_time": "2024-11-29T21:39:22.965Z"
   },
   {
    "duration": 47,
    "start_time": "2024-11-29T21:39:49.165Z"
   },
   {
    "duration": 34,
    "start_time": "2024-11-29T21:40:27.369Z"
   },
   {
    "duration": 46,
    "start_time": "2024-11-29T21:40:54.229Z"
   },
   {
    "duration": 42,
    "start_time": "2024-11-29T21:41:11.759Z"
   },
   {
    "duration": 51,
    "start_time": "2024-11-29T21:42:04.515Z"
   },
   {
    "duration": 46,
    "start_time": "2024-11-29T21:43:06.616Z"
   },
   {
    "duration": 16,
    "start_time": "2024-11-29T21:43:20.209Z"
   },
   {
    "duration": 13,
    "start_time": "2024-11-29T21:45:49.326Z"
   },
   {
    "duration": 15,
    "start_time": "2024-11-29T21:46:45.755Z"
   },
   {
    "duration": 466,
    "start_time": "2024-11-29T21:50:45.382Z"
   },
   {
    "duration": 7505,
    "start_time": "2024-11-29T21:50:45.850Z"
   },
   {
    "duration": 3,
    "start_time": "2024-11-29T21:50:53.356Z"
   },
   {
    "duration": 58,
    "start_time": "2024-11-29T21:50:53.361Z"
   },
   {
    "duration": 8,
    "start_time": "2024-11-29T21:50:53.420Z"
   },
   {
    "duration": 21,
    "start_time": "2024-11-29T21:50:53.429Z"
   },
   {
    "duration": 85,
    "start_time": "2024-11-29T21:50:53.451Z"
   },
   {
    "duration": 9,
    "start_time": "2024-11-29T21:50:53.537Z"
   },
   {
    "duration": 7,
    "start_time": "2024-11-29T21:50:53.547Z"
   },
   {
    "duration": 81,
    "start_time": "2024-11-29T21:50:53.555Z"
   },
   {
    "duration": 8,
    "start_time": "2024-11-29T21:50:53.638Z"
   },
   {
    "duration": 11,
    "start_time": "2024-11-29T21:50:53.647Z"
   },
   {
    "duration": 82,
    "start_time": "2024-11-29T21:52:04.844Z"
   },
   {
    "duration": 36,
    "start_time": "2024-11-29T21:52:31.448Z"
   },
   {
    "duration": 11,
    "start_time": "2024-11-29T22:17:32.677Z"
   },
   {
    "duration": 64,
    "start_time": "2024-11-29T22:22:05.808Z"
   },
   {
    "duration": 492,
    "start_time": "2024-11-29T22:47:50.565Z"
   },
   {
    "duration": 7294,
    "start_time": "2024-11-29T22:47:51.059Z"
   },
   {
    "duration": 2,
    "start_time": "2024-11-29T22:47:58.355Z"
   },
   {
    "duration": 38,
    "start_time": "2024-11-29T22:47:58.359Z"
   },
   {
    "duration": 9,
    "start_time": "2024-11-29T22:47:58.399Z"
   },
   {
    "duration": 8,
    "start_time": "2024-11-29T22:47:58.409Z"
   },
   {
    "duration": 8,
    "start_time": "2024-11-29T22:47:58.418Z"
   },
   {
    "duration": 12,
    "start_time": "2024-11-29T22:47:58.427Z"
   },
   {
    "duration": 7,
    "start_time": "2024-11-29T22:47:58.440Z"
   },
   {
    "duration": 23,
    "start_time": "2024-11-29T22:47:58.448Z"
   },
   {
    "duration": 7,
    "start_time": "2024-11-29T22:47:58.473Z"
   },
   {
    "duration": 10,
    "start_time": "2024-11-29T22:47:58.482Z"
   },
   {
    "duration": 9,
    "start_time": "2024-11-29T22:47:58.493Z"
   },
   {
    "duration": 442,
    "start_time": "2024-11-29T22:50:11.208Z"
   },
   {
    "duration": 7515,
    "start_time": "2024-11-29T22:50:11.652Z"
   },
   {
    "duration": 3,
    "start_time": "2024-11-29T22:50:19.168Z"
   },
   {
    "duration": 53,
    "start_time": "2024-11-29T22:50:19.173Z"
   },
   {
    "duration": 7,
    "start_time": "2024-11-29T22:50:19.228Z"
   },
   {
    "duration": 19,
    "start_time": "2024-11-29T22:50:19.236Z"
   },
   {
    "duration": 9,
    "start_time": "2024-11-29T22:50:19.256Z"
   },
   {
    "duration": 20,
    "start_time": "2024-11-29T22:50:19.266Z"
   },
   {
    "duration": 9,
    "start_time": "2024-11-29T22:50:19.287Z"
   },
   {
    "duration": 23,
    "start_time": "2024-11-29T22:50:19.298Z"
   },
   {
    "duration": 8,
    "start_time": "2024-11-29T22:50:19.323Z"
   },
   {
    "duration": 62,
    "start_time": "2024-11-29T22:50:19.332Z"
   },
   {
    "duration": 9,
    "start_time": "2024-11-29T22:50:19.395Z"
   },
   {
    "duration": 486,
    "start_time": "2024-11-30T06:48:16.544Z"
   },
   {
    "duration": 9519,
    "start_time": "2024-11-30T06:48:17.032Z"
   },
   {
    "duration": 3,
    "start_time": "2024-11-30T06:48:26.552Z"
   },
   {
    "duration": 244,
    "start_time": "2024-11-30T06:48:26.557Z"
   },
   {
    "duration": 48,
    "start_time": "2024-11-30T06:48:26.802Z"
   },
   {
    "duration": 48,
    "start_time": "2024-11-30T06:48:26.852Z"
   },
   {
    "duration": 48,
    "start_time": "2024-11-30T06:48:26.901Z"
   },
   {
    "duration": 49,
    "start_time": "2024-11-30T06:48:26.951Z"
   },
   {
    "duration": 47,
    "start_time": "2024-11-30T06:48:27.002Z"
   },
   {
    "duration": 83,
    "start_time": "2024-11-30T06:48:27.051Z"
   },
   {
    "duration": 48,
    "start_time": "2024-11-30T06:48:27.136Z"
   },
   {
    "duration": 52,
    "start_time": "2024-11-30T06:48:27.186Z"
   },
   {
    "duration": 49,
    "start_time": "2024-11-30T06:48:27.240Z"
   },
   {
    "duration": 53,
    "start_time": "2024-11-30T06:49:15.925Z"
   },
   {
    "duration": 52,
    "start_time": "2024-11-30T06:49:21.780Z"
   },
   {
    "duration": 497,
    "start_time": "2024-11-30T07:12:37.125Z"
   },
   {
    "duration": 9508,
    "start_time": "2024-11-30T07:12:37.623Z"
   },
   {
    "duration": 4,
    "start_time": "2024-11-30T07:12:47.132Z"
   },
   {
    "duration": 235,
    "start_time": "2024-11-30T07:12:47.137Z"
   },
   {
    "duration": 51,
    "start_time": "2024-11-30T07:12:47.373Z"
   },
   {
    "duration": 49,
    "start_time": "2024-11-30T07:12:47.425Z"
   },
   {
    "duration": 50,
    "start_time": "2024-11-30T07:12:47.476Z"
   },
   {
    "duration": 50,
    "start_time": "2024-11-30T07:12:47.527Z"
   },
   {
    "duration": 50,
    "start_time": "2024-11-30T07:12:47.578Z"
   },
   {
    "duration": 87,
    "start_time": "2024-11-30T07:12:47.629Z"
   },
   {
    "duration": 51,
    "start_time": "2024-11-30T07:12:47.717Z"
   },
   {
    "duration": 55,
    "start_time": "2024-11-30T07:12:47.769Z"
   },
   {
    "duration": 51,
    "start_time": "2024-11-30T07:12:47.825Z"
   },
   {
    "duration": 483,
    "start_time": "2024-11-30T07:33:17.243Z"
   },
   {
    "duration": 9380,
    "start_time": "2024-11-30T07:33:17.728Z"
   },
   {
    "duration": 3,
    "start_time": "2024-11-30T07:33:27.109Z"
   },
   {
    "duration": 246,
    "start_time": "2024-11-30T07:33:27.114Z"
   },
   {
    "duration": 50,
    "start_time": "2024-11-30T07:33:27.361Z"
   },
   {
    "duration": 50,
    "start_time": "2024-11-30T07:33:27.412Z"
   },
   {
    "duration": 50,
    "start_time": "2024-11-30T07:33:27.463Z"
   },
   {
    "duration": 50,
    "start_time": "2024-11-30T07:33:27.515Z"
   },
   {
    "duration": 50,
    "start_time": "2024-11-30T07:33:27.566Z"
   },
   {
    "duration": 86,
    "start_time": "2024-11-30T07:33:27.618Z"
   },
   {
    "duration": 51,
    "start_time": "2024-11-30T07:33:27.705Z"
   },
   {
    "duration": 53,
    "start_time": "2024-11-30T07:33:27.758Z"
   },
   {
    "duration": 53,
    "start_time": "2024-11-30T07:33:27.812Z"
   },
   {
    "duration": 453,
    "start_time": "2024-11-30T07:35:24.891Z"
   },
   {
    "duration": 9370,
    "start_time": "2024-11-30T07:35:25.345Z"
   },
   {
    "duration": 3,
    "start_time": "2024-11-30T07:35:34.716Z"
   },
   {
    "duration": 234,
    "start_time": "2024-11-30T07:35:34.721Z"
   },
   {
    "duration": 46,
    "start_time": "2024-11-30T07:35:34.957Z"
   },
   {
    "duration": 47,
    "start_time": "2024-11-30T07:35:35.005Z"
   },
   {
    "duration": 47,
    "start_time": "2024-11-30T07:35:35.053Z"
   },
   {
    "duration": 47,
    "start_time": "2024-11-30T07:35:35.102Z"
   },
   {
    "duration": 47,
    "start_time": "2024-11-30T07:35:35.150Z"
   },
   {
    "duration": 87,
    "start_time": "2024-11-30T07:35:35.199Z"
   },
   {
    "duration": 48,
    "start_time": "2024-11-30T07:35:35.288Z"
   },
   {
    "duration": 52,
    "start_time": "2024-11-30T07:35:35.337Z"
   },
   {
    "duration": 50,
    "start_time": "2024-11-30T07:35:35.391Z"
   },
   {
    "duration": 469,
    "start_time": "2024-11-30T13:52:39.283Z"
   },
   {
    "duration": 7721,
    "start_time": "2024-11-30T13:52:39.754Z"
   },
   {
    "duration": 10,
    "start_time": "2024-11-30T13:52:47.477Z"
   },
   {
    "duration": 58,
    "start_time": "2024-11-30T13:52:47.492Z"
   },
   {
    "duration": 7,
    "start_time": "2024-11-30T13:52:47.552Z"
   },
   {
    "duration": 7,
    "start_time": "2024-11-30T13:52:47.561Z"
   },
   {
    "duration": 23,
    "start_time": "2024-11-30T13:52:47.569Z"
   },
   {
    "duration": 11,
    "start_time": "2024-11-30T13:52:47.593Z"
   },
   {
    "duration": 7,
    "start_time": "2024-11-30T13:52:47.606Z"
   },
   {
    "duration": 30,
    "start_time": "2024-11-30T13:52:47.614Z"
   },
   {
    "duration": 9,
    "start_time": "2024-11-30T13:52:47.645Z"
   },
   {
    "duration": 31,
    "start_time": "2024-11-30T13:52:47.656Z"
   },
   {
    "duration": 13,
    "start_time": "2024-11-30T13:52:47.689Z"
   }
  ],
  "colab": {
   "provenance": []
  },
  "kernelspec": {
   "display_name": "Python 3 (ipykernel)",
   "language": "python",
   "name": "python3"
  },
  "language_info": {
   "codemirror_mode": {
    "name": "ipython",
    "version": 3
   },
   "file_extension": ".py",
   "mimetype": "text/x-python",
   "name": "python",
   "nbconvert_exporter": "python",
   "pygments_lexer": "ipython3",
   "version": "3.11.7"
  },
  "toc": {
   "base_numbering": 1,
   "nav_menu": {},
   "number_sections": true,
   "sideBar": true,
   "skip_h1_title": true,
   "title_cell": "Table of Contents",
   "title_sidebar": "Contents",
   "toc_cell": false,
   "toc_position": {},
   "toc_section_display": true,
   "toc_window_display": false
  }
 },
 "nbformat": 4,
 "nbformat_minor": 4
}
